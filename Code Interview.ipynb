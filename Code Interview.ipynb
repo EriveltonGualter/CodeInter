{
 "cells": [
  {
   "cell_type": "code",
   "execution_count": 1,
   "metadata": {},
   "outputs": [],
   "source": [
    "#include <iostream>\n",
    "#include <time.h>\n",
    "#include <vector>\n",
    "\n",
    "using namespace std;\n",
    "\n",
    "typedef std::vector<int> int_vec; // Define a integer vector datatype\n"
   ]
  },
  {
   "cell_type": "code",
   "execution_count": 2,
   "metadata": {},
   "outputs": [],
   "source": [
    "// Function: Sort arry in asceding order\n",
    "void sortArray(std::vector<int>  *arr){\n",
    "    int temp;\n",
    "    for (int i = 0; i < arr->size(); i++)\n",
    "    {\n",
    "        for (int j = i + 1; j < arr->size(); j++)\n",
    "        {\n",
    "            if (arr->at(i) > arr->at(j))\n",
    "            {\n",
    "                temp = arr->at(i);\n",
    "                arr->at(i) = arr->at(j);\n",
    "                arr->at(j) = temp;\n",
    "            }\n",
    "        }\n",
    "    }\n",
    "}"
   ]
  },
  {
   "cell_type": "code",
   "execution_count": 3,
   "metadata": {},
   "outputs": [],
   "source": [
    "// Function: Reverse Array in Place\n",
    "void reverseArray(std::vector<int> *arr)\n",
    "{\n",
    "    int N = (arr->size() % 2 == 0) ? arr->size() / 2 : (arr->size() - 1) / 2;\n",
    "    int temp;\n",
    "\n",
    "    for (int i = 0; i < N; i++)\n",
    "    {\n",
    "        temp = arr->at(i);\n",
    "        arr->at(i) = arr->at(arr->size() - i - 1);\n",
    "        arr->at(arr->size() - i - 1) = temp;\n",
    "    }\n",
    "}"
   ]
  },
  {
   "cell_type": "code",
   "execution_count": 4,
   "metadata": {},
   "outputs": [],
   "source": [
    "//Functions: Return a random number from 1 to N\n",
    "int getRandonNumber(int N)\n",
    "{\n",
    "    return std::rand() % N + 1;\n",
    "}"
   ]
  },
  {
   "cell_type": "code",
   "execution_count": 5,
   "metadata": {},
   "outputs": [],
   "source": [
    "// Function: Get a randon number not inside of a sorted array\n",
    "int getRandNotVector(std::vector<int> *arr)\n",
    "{\n",
    "    int secretNum = getRandonNumber(arr->size() - 1);\n",
    "\n",
    "    for (int i = 0; i < arr->size(); i++)\n",
    "    {\n",
    "        if (secretNum < arr->at(i))\n",
    "            return secretNum; \n",
    "        if ((secretNum = arr->at(i)))\n",
    "        {\n",
    "            secretNum = getRandonNumber(arr->at(arr->size() - 1));\n",
    "            i = -1;\n",
    "        }\n",
    "    }\n",
    "    return secretNum; \n",
    "}"
   ]
  },
  {
   "cell_type": "code",
   "execution_count": 6,
   "metadata": {},
   "outputs": [
    {
     "name": "stdout",
     "output_type": "stream",
     "text": [
      "Array used for the demonstration: "
     ]
    },
    {
     "data": {
      "text/plain": [
       "{ 4, 3, 40, 1, 5, 2 }"
      ]
     },
     "execution_count": 6,
     "metadata": {},
     "output_type": "execute_result"
    }
   ],
   "source": [
    "std::vector<int> arr = { 4,3,40,1,5,2};  \n",
    "cout << \"Array used for the demonstration: \"; arr"
   ]
  },
  {
   "cell_type": "code",
   "execution_count": 7,
   "metadata": {},
   "outputs": [
    {
     "name": "stdout",
     "output_type": "stream",
     "text": [
      "Reverse array in place"
     ]
    },
    {
     "data": {
      "text/plain": [
       "{ 2, 5, 1, 40, 3, 4 }"
      ]
     },
     "execution_count": 7,
     "metadata": {},
     "output_type": "execute_result"
    }
   ],
   "source": [
    "reverseArray(&arr);\n",
    "cout << \"Reverse array in place\"; arr"
   ]
  },
  {
   "cell_type": "code",
   "execution_count": 8,
   "metadata": {},
   "outputs": [
    {
     "data": {
      "text/plain": [
       "{ 1, 2, 3, 4, 5, 40 }"
      ]
     },
     "execution_count": 8,
     "metadata": {},
     "output_type": "execute_result"
    }
   ],
   "source": [
    "sortArray(&arr); arr"
   ]
  },
  {
   "cell_type": "code",
   "execution_count": null,
   "metadata": {},
   "outputs": [],
   "source": [
    "int rnumber = getRandNotVector(&arr);\n",
    "cout << \"Get a randon number that is not inside of the array:    \";  rnumber"
   ]
  },
  {
   "cell_type": "code",
   "execution_count": null,
   "metadata": {},
   "outputs": [],
   "source": []
  },
  {
   "cell_type": "code",
   "execution_count": null,
   "metadata": {},
   "outputs": [],
   "source": []
  },
  {
   "cell_type": "code",
   "execution_count": null,
   "metadata": {},
   "outputs": [],
   "source": []
  },
  {
   "cell_type": "code",
   "execution_count": null,
   "metadata": {},
   "outputs": [],
   "source": []
  }
 ],
 "metadata": {
  "kernelspec": {
   "display_name": "C++14",
   "language": "C++14",
   "name": "xeus-cling-cpp14"
  },
  "language_info": {
   "codemirror_mode": "text/x-c++src",
   "file_extension": ".cpp",
   "mimetype": "text/x-c++src",
   "name": "c++",
   "version": "-std=c++14"
  }
 },
 "nbformat": 4,
 "nbformat_minor": 2
}
