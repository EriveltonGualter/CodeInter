{
 "cells": [
  {
   "cell_type": "markdown",
   "metadata": {},
   "source": [
    "# Code Interview\n",
    "\n",
    "This page contains some code notes using Jupyter Notebook. This tool is an open-source web application that allows you to create and share documents that contain live code, equations, visualizations and narrative text. \n",
    "\n",
    "The following code correspond to:\n",
    " \n",
    " - Sort an array function;\n",
    " - Reverse Array in Place function;\n",
    " - Return a random number from 1 to N function;\n",
    " - Get a randon number not inside of a sorted array function;"
   ]
  },
  {
   "cell_type": "markdown",
   "metadata": {},
   "source": [
    "First, let's include the necessary libraries to run the code:"
   ]
  },
  {
   "cell_type": "code",
   "execution_count": 1,
   "metadata": {},
   "outputs": [],
   "source": [
    "#include <iostream>\n",
    "#include <time.h>\n",
    "#include <vector>\n",
    "\n",
    "using namespace std;"
   ]
  },
  {
   "cell_type": "markdown",
   "metadata": {},
   "source": [
    "## Functions\n",
    "Function to sort an arry in asceding order:"
   ]
  },
  {
   "cell_type": "code",
   "execution_count": 2,
   "metadata": {},
   "outputs": [],
   "source": [
    "void sortArray(std::vector<int>  *arr){\n",
    "    int temp;\n",
    "    for (int i = 0; i < arr->size(); i++)\n",
    "    {\n",
    "        for (int j = i + 1; j < arr->size(); j++)\n",
    "        {\n",
    "            if (arr->at(i) > arr->at(j))\n",
    "            {\n",
    "                temp = arr->at(i);\n",
    "                arr->at(i) = arr->at(j);\n",
    "                arr->at(j) = temp;\n",
    "            }\n",
    "        }\n",
    "    }\n",
    "}"
   ]
  },
  {
   "cell_type": "markdown",
   "metadata": {},
   "source": [
    "Function to reverse array in place:"
   ]
  },
  {
   "cell_type": "code",
   "execution_count": 3,
   "metadata": {},
   "outputs": [],
   "source": [
    "void reverseArray(std::vector<int> *arr)\n",
    "{\n",
    "    int N = (arr->size() % 2 == 0) ? arr->size() / 2 : (arr->size() - 1) / 2;\n",
    "    int temp;\n",
    "\n",
    "    for (int i = 0; i < N; i++)\n",
    "    {\n",
    "        temp = arr->at(i);\n",
    "        arr->at(i) = arr->at(arr->size() - i - 1);\n",
    "        arr->at(arr->size() - i - 1) = temp;\n",
    "    }\n",
    "}"
   ]
  },
  {
   "cell_type": "markdown",
   "metadata": {},
   "source": [
    "Functions to return a random number from 1 to N"
   ]
  },
  {
   "cell_type": "code",
   "execution_count": 4,
   "metadata": {},
   "outputs": [],
   "source": [
    "int getRandonNumber(int N)\n",
    "{\n",
    "    return std::rand() % N + 1;\n",
    "}"
   ]
  },
  {
   "cell_type": "markdown",
   "metadata": {},
   "source": [
    "Function to get a randon number not inside of a sorted array"
   ]
  },
  {
   "cell_type": "code",
   "execution_count": 5,
   "metadata": {},
   "outputs": [],
   "source": [
    "int getRandNotVector(std::vector<int> *arr)\n",
    "{\n",
    "    int secretNum = getRandonNumber(arr->size() - 1);\n",
    "\n",
    "    for (int i = 0; i < arr->size(); i++)\n",
    "    {\n",
    "        if (secretNum < arr->at(i))\n",
    "            return secretNum; \n",
    "        if ((secretNum = arr->at(i)))\n",
    "        {\n",
    "            secretNum = getRandonNumber(arr->at(arr->size() - 1));\n",
    "            i = -1;\n",
    "        }\n",
    "    }\n",
    "    return secretNum; \n",
    "}"
   ]
  },
  {
   "cell_type": "markdown",
   "metadata": {},
   "source": [
    "## Outputs\n",
    "All the necessary functions were already defined. The following line of codes shows the output of this functions"
   ]
  },
  {
   "cell_type": "code",
   "execution_count": 6,
   "metadata": {},
   "outputs": [
    {
     "name": "stdout",
     "output_type": "stream",
     "text": [
      "Array used for the demonstration: "
     ]
    },
    {
     "data": {
      "text/plain": [
       "{ 4, 3, 40, 1, 5, 2 }"
      ]
     },
     "execution_count": 6,
     "metadata": {},
     "output_type": "execute_result"
    }
   ],
   "source": [
    "std::vector<int> arr = { 4,3,40,1,5,2};  \n",
    "cout << \"Array used for the demonstration: \"; \n",
    "arr"
   ]
  },
  {
   "cell_type": "code",
   "execution_count": 7,
   "metadata": {},
   "outputs": [
    {
     "name": "stdout",
     "output_type": "stream",
     "text": [
      "Reverse array in place"
     ]
    },
    {
     "data": {
      "text/plain": [
       "{ 2, 5, 1, 40, 3, 4 }"
      ]
     },
     "execution_count": 7,
     "metadata": {},
     "output_type": "execute_result"
    }
   ],
   "source": [
    "reverseArray(&arr);\n",
    "cout << \"Reverse array in place\"; arr"
   ]
  },
  {
   "cell_type": "code",
   "execution_count": 8,
   "metadata": {},
   "outputs": [
    {
     "data": {
      "text/plain": [
       "{ 1, 2, 3, 4, 5, 40 }"
      ]
     },
     "execution_count": 8,
     "metadata": {},
     "output_type": "execute_result"
    }
   ],
   "source": [
    "sortArray(&arr); \n",
    "arr"
   ]
  },
  {
   "cell_type": "code",
   "execution_count": null,
   "metadata": {},
   "outputs": [],
   "source": [
    "int rnumber = getRandNotVector(&arr);\n",
    "cout << \"Get a randon number that is not inside of the array:    \";  \n",
    "rnumber"
   ]
  },
  {
   "cell_type": "markdown",
   "metadata": {},
   "source": [
    "* The code can be also downloaded in te following repository:\n",
    "    https://github.com/EriveltonGualter/TestJupyterC-"
   ]
  },
  {
   "cell_type": "markdown",
   "metadata": {},
   "source": [
    "![title](screen.PNG)"
   ]
  },
  {
   "cell_type": "code",
   "execution_count": null,
   "metadata": {},
   "outputs": [],
   "source": []
  }
 ],
 "metadata": {
  "kernelspec": {
   "display_name": "C++14",
   "language": "C++14",
   "name": "xeus-cling-cpp14"
  },
  "language_info": {
   "codemirror_mode": "text/x-c++src",
   "file_extension": ".cpp",
   "mimetype": "text/x-c++src",
   "name": "c++",
   "version": "-std=c++14"
  }
 },
 "nbformat": 4,
 "nbformat_minor": 2
}
